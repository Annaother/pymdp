{
  "cells": [
    {
      "cell_type": "markdown",
      "metadata": {
        "id": "view-in-github",
        "colab_type": "text"
      },
      "source": [
        "<a href=\"https://colab.research.google.com/github/Annaother/pymdp/blob/master/Hider_Interactive.ipynb\" target=\"_parent\"><img src=\"https://colab.research.google.com/assets/colab-badge.svg\" alt=\"Open In Colab\"/></a>"
      ]
    },
    {
      "cell_type": "code",
      "execution_count": null,
      "metadata": {
        "id": "mUy58P4847qe",
        "colab": {
          "base_uri": "https://localhost:8080/"
        },
        "outputId": "da61dc21-bbc3-4d90-84af-b0eba2fdc6fe"
      },
      "outputs": [
        {
          "output_type": "stream",
          "name": "stdout",
          "text": [
            "pymdp package is not installed\n",
            "Looking in indexes: https://pypi.org/simple, https://us-python.pkg.dev/colab-wheels/public/simple/\n",
            "Collecting git+https://github.com/infer-actively/pymdp.git\n",
            "  Cloning https://github.com/infer-actively/pymdp.git to /tmp/pip-req-build-co9yce9q\n",
            "  Running command git clone --filter=blob:none --quiet https://github.com/infer-actively/pymdp.git /tmp/pip-req-build-co9yce9q\n",
            "  Resolved https://github.com/infer-actively/pymdp.git to commit 2d2152c79d4b28c8efc4a7a77012a5d1c146ec32\n",
            "  Preparing metadata (setup.py) ... \u001b[?25l\u001b[?25hdone\n",
            "Requirement already satisfied: attrs>=20.3.0 in /usr/local/lib/python3.9/dist-packages (from inferactively-pymdp==0.0.7.1) (22.2.0)\n",
            "Requirement already satisfied: cycler>=0.10.0 in /usr/local/lib/python3.9/dist-packages (from inferactively-pymdp==0.0.7.1) (0.11.0)\n",
            "Requirement already satisfied: iniconfig>=1.1.1 in /usr/local/lib/python3.9/dist-packages (from inferactively-pymdp==0.0.7.1) (2.0.0)\n",
            "Requirement already satisfied: kiwisolver>=1.3.1 in /usr/local/lib/python3.9/dist-packages (from inferactively-pymdp==0.0.7.1) (1.4.4)\n",
            "Requirement already satisfied: matplotlib>=3.1.3 in /usr/local/lib/python3.9/dist-packages (from inferactively-pymdp==0.0.7.1) (3.7.1)\n",
            "Requirement already satisfied: nose>=1.3.7 in /usr/local/lib/python3.9/dist-packages (from inferactively-pymdp==0.0.7.1) (1.3.7)\n",
            "Requirement already satisfied: numpy>=1.19.5 in /usr/local/lib/python3.9/dist-packages (from inferactively-pymdp==0.0.7.1) (1.22.4)\n",
            "Requirement already satisfied: openpyxl>=3.0.7 in /usr/local/lib/python3.9/dist-packages (from inferactively-pymdp==0.0.7.1) (3.0.10)\n",
            "Requirement already satisfied: packaging>=20.8 in /usr/local/lib/python3.9/dist-packages (from inferactively-pymdp==0.0.7.1) (23.0)\n",
            "Requirement already satisfied: pandas>=1.2.4 in /usr/local/lib/python3.9/dist-packages (from inferactively-pymdp==0.0.7.1) (1.4.4)\n",
            "Requirement already satisfied: Pillow>=8.2.0 in /usr/local/lib/python3.9/dist-packages (from inferactively-pymdp==0.0.7.1) (8.4.0)\n",
            "Requirement already satisfied: pluggy>=0.13.1 in /usr/local/lib/python3.9/dist-packages (from inferactively-pymdp==0.0.7.1) (1.0.0)\n",
            "Requirement already satisfied: py>=1.10.0 in /usr/local/lib/python3.9/dist-packages (from inferactively-pymdp==0.0.7.1) (1.11.0)\n",
            "Requirement already satisfied: pyparsing>=2.4.7 in /usr/local/lib/python3.9/dist-packages (from inferactively-pymdp==0.0.7.1) (3.0.9)\n",
            "Requirement already satisfied: pytest>=6.2.1 in /usr/local/lib/python3.9/dist-packages (from inferactively-pymdp==0.0.7.1) (7.2.2)\n",
            "Requirement already satisfied: python-dateutil>=2.8.1 in /usr/local/lib/python3.9/dist-packages (from inferactively-pymdp==0.0.7.1) (2.8.2)\n",
            "Requirement already satisfied: pytz>=2020.5 in /usr/local/lib/python3.9/dist-packages (from inferactively-pymdp==0.0.7.1) (2022.7.1)\n",
            "Requirement already satisfied: scipy>=1.6.0 in /usr/local/lib/python3.9/dist-packages (from inferactively-pymdp==0.0.7.1) (1.10.1)\n",
            "Requirement already satisfied: seaborn>=0.11.1 in /usr/local/lib/python3.9/dist-packages (from inferactively-pymdp==0.0.7.1) (0.12.2)\n",
            "Requirement already satisfied: six>=1.15.0 in /usr/local/lib/python3.9/dist-packages (from inferactively-pymdp==0.0.7.1) (1.16.0)\n",
            "Requirement already satisfied: toml>=0.10.2 in /usr/local/lib/python3.9/dist-packages (from inferactively-pymdp==0.0.7.1) (0.10.2)\n",
            "Requirement already satisfied: typing-extensions>=3.7.4.3 in /usr/local/lib/python3.9/dist-packages (from inferactively-pymdp==0.0.7.1) (4.5.0)\n",
            "Requirement already satisfied: xlsxwriter>=1.4.3 in /usr/local/lib/python3.9/dist-packages (from inferactively-pymdp==0.0.7.1) (3.0.9)\n",
            "Requirement already satisfied: sphinx-rtd-theme>=0.4 in /usr/local/lib/python3.9/dist-packages (from inferactively-pymdp==0.0.7.1) (1.2.0)\n",
            "Requirement already satisfied: myst-nb>=0.13.1 in /usr/local/lib/python3.9/dist-packages (from inferactively-pymdp==0.0.7.1) (0.17.1)\n",
            "Requirement already satisfied: autograd>=1.3 in /usr/local/lib/python3.9/dist-packages (from inferactively-pymdp==0.0.7.1) (1.5)\n",
            "Requirement already satisfied: future>=0.15.2 in /usr/local/lib/python3.9/dist-packages (from autograd>=1.3->inferactively-pymdp==0.0.7.1) (0.18.3)\n",
            "Requirement already satisfied: importlib-resources>=3.2.0 in /usr/local/lib/python3.9/dist-packages (from matplotlib>=3.1.3->inferactively-pymdp==0.0.7.1) (5.12.0)\n",
            "Requirement already satisfied: contourpy>=1.0.1 in /usr/local/lib/python3.9/dist-packages (from matplotlib>=3.1.3->inferactively-pymdp==0.0.7.1) (1.0.7)\n",
            "Requirement already satisfied: fonttools>=4.22.0 in /usr/local/lib/python3.9/dist-packages (from matplotlib>=3.1.3->inferactively-pymdp==0.0.7.1) (4.39.3)\n",
            "Requirement already satisfied: jupyter-cache~=0.5.0 in /usr/local/lib/python3.9/dist-packages (from myst-nb>=0.13.1->inferactively-pymdp==0.0.7.1) (0.5.0)\n",
            "Requirement already satisfied: pyyaml in /usr/local/lib/python3.9/dist-packages (from myst-nb>=0.13.1->inferactively-pymdp==0.0.7.1) (6.0)\n",
            "Requirement already satisfied: importlib_metadata in /usr/local/lib/python3.9/dist-packages (from myst-nb>=0.13.1->inferactively-pymdp==0.0.7.1) (6.1.0)\n",
            "Requirement already satisfied: nbformat~=5.0 in /usr/local/lib/python3.9/dist-packages (from myst-nb>=0.13.1->inferactively-pymdp==0.0.7.1) (5.8.0)\n",
            "Requirement already satisfied: sphinx<6,>=4 in /usr/local/lib/python3.9/dist-packages (from myst-nb>=0.13.1->inferactively-pymdp==0.0.7.1) (5.3.0)\n",
            "Requirement already satisfied: nbclient in /usr/local/lib/python3.9/dist-packages (from myst-nb>=0.13.1->inferactively-pymdp==0.0.7.1) (0.5.13)\n",
            "Requirement already satisfied: ipykernel in /usr/local/lib/python3.9/dist-packages (from myst-nb>=0.13.1->inferactively-pymdp==0.0.7.1) (5.5.6)\n",
            "Requirement already satisfied: ipython in /usr/local/lib/python3.9/dist-packages (from myst-nb>=0.13.1->inferactively-pymdp==0.0.7.1) (7.34.0)\n",
            "Requirement already satisfied: myst-parser~=0.18.0 in /usr/local/lib/python3.9/dist-packages (from myst-nb>=0.13.1->inferactively-pymdp==0.0.7.1) (0.18.1)\n",
            "Requirement already satisfied: et-xmlfile in /usr/local/lib/python3.9/dist-packages (from openpyxl>=3.0.7->inferactively-pymdp==0.0.7.1) (1.1.0)\n",
            "Requirement already satisfied: tomli>=1.0.0 in /usr/local/lib/python3.9/dist-packages (from pytest>=6.2.1->inferactively-pymdp==0.0.7.1) (2.0.1)\n",
            "Requirement already satisfied: exceptiongroup>=1.0.0rc8 in /usr/local/lib/python3.9/dist-packages (from pytest>=6.2.1->inferactively-pymdp==0.0.7.1) (1.1.1)\n",
            "Requirement already satisfied: sphinxcontrib-jquery!=3.0.0,>=2.0.0 in /usr/local/lib/python3.9/dist-packages (from sphinx-rtd-theme>=0.4->inferactively-pymdp==0.0.7.1) (4.1)\n",
            "Requirement already satisfied: docutils<0.19 in /usr/local/lib/python3.9/dist-packages (from sphinx-rtd-theme>=0.4->inferactively-pymdp==0.0.7.1) (0.16)\n",
            "Requirement already satisfied: zipp>=3.1.0 in /usr/local/lib/python3.9/dist-packages (from importlib-resources>=3.2.0->matplotlib>=3.1.3->inferactively-pymdp==0.0.7.1) (3.15.0)\n",
            "Requirement already satisfied: click in /usr/local/lib/python3.9/dist-packages (from jupyter-cache~=0.5.0->myst-nb>=0.13.1->inferactively-pymdp==0.0.7.1) (8.1.3)\n",
            "Requirement already satisfied: sqlalchemy<1.5,>=1.3.12 in /usr/local/lib/python3.9/dist-packages (from jupyter-cache~=0.5.0->myst-nb>=0.13.1->inferactively-pymdp==0.0.7.1) (1.4.47)\n",
            "Requirement already satisfied: tabulate in /usr/local/lib/python3.9/dist-packages (from jupyter-cache~=0.5.0->myst-nb>=0.13.1->inferactively-pymdp==0.0.7.1) (0.8.10)\n",
            "Requirement already satisfied: markdown-it-py<3.0.0,>=1.0.0 in /usr/local/lib/python3.9/dist-packages (from myst-parser~=0.18.0->myst-nb>=0.13.1->inferactively-pymdp==0.0.7.1) (2.2.0)\n",
            "Requirement already satisfied: jinja2 in /usr/local/lib/python3.9/dist-packages (from myst-parser~=0.18.0->myst-nb>=0.13.1->inferactively-pymdp==0.0.7.1) (3.1.2)\n",
            "Requirement already satisfied: mdit-py-plugins~=0.3.1 in /usr/local/lib/python3.9/dist-packages (from myst-parser~=0.18.0->myst-nb>=0.13.1->inferactively-pymdp==0.0.7.1) (0.3.5)\n",
            "Requirement already satisfied: jupyter-client>=6.1.5 in /usr/local/lib/python3.9/dist-packages (from nbclient->myst-nb>=0.13.1->inferactively-pymdp==0.0.7.1) (6.1.12)\n",
            "Requirement already satisfied: nest-asyncio in /usr/local/lib/python3.9/dist-packages (from nbclient->myst-nb>=0.13.1->inferactively-pymdp==0.0.7.1) (1.5.6)\n",
            "Requirement already satisfied: traitlets>=5.0.0 in /usr/local/lib/python3.9/dist-packages (from nbclient->myst-nb>=0.13.1->inferactively-pymdp==0.0.7.1) (5.7.1)\n",
            "Requirement already satisfied: jsonschema>=2.6 in /usr/local/lib/python3.9/dist-packages (from nbformat~=5.0->myst-nb>=0.13.1->inferactively-pymdp==0.0.7.1) (4.3.3)\n",
            "Requirement already satisfied: jupyter-core in /usr/local/lib/python3.9/dist-packages (from nbformat~=5.0->myst-nb>=0.13.1->inferactively-pymdp==0.0.7.1) (5.3.0)\n",
            "Requirement already satisfied: fastjsonschema in /usr/local/lib/python3.9/dist-packages (from nbformat~=5.0->myst-nb>=0.13.1->inferactively-pymdp==0.0.7.1) (2.16.3)\n",
            "Requirement already satisfied: sphinxcontrib-jsmath in /usr/local/lib/python3.9/dist-packages (from sphinx<6,>=4->myst-nb>=0.13.1->inferactively-pymdp==0.0.7.1) (1.0.1)\n",
            "Requirement already satisfied: sphinxcontrib-serializinghtml>=1.1.5 in /usr/local/lib/python3.9/dist-packages (from sphinx<6,>=4->myst-nb>=0.13.1->inferactively-pymdp==0.0.7.1) (1.1.5)\n",
            "Requirement already satisfied: sphinxcontrib-devhelp in /usr/local/lib/python3.9/dist-packages (from sphinx<6,>=4->myst-nb>=0.13.1->inferactively-pymdp==0.0.7.1) (1.0.2)\n",
            "Requirement already satisfied: snowballstemmer>=2.0 in /usr/local/lib/python3.9/dist-packages (from sphinx<6,>=4->myst-nb>=0.13.1->inferactively-pymdp==0.0.7.1) (2.2.0)\n",
            "Requirement already satisfied: sphinxcontrib-htmlhelp>=2.0.0 in /usr/local/lib/python3.9/dist-packages (from sphinx<6,>=4->myst-nb>=0.13.1->inferactively-pymdp==0.0.7.1) (2.0.1)\n",
            "Requirement already satisfied: sphinxcontrib-qthelp in /usr/local/lib/python3.9/dist-packages (from sphinx<6,>=4->myst-nb>=0.13.1->inferactively-pymdp==0.0.7.1) (1.0.3)\n",
            "Requirement already satisfied: babel>=2.9 in /usr/local/lib/python3.9/dist-packages (from sphinx<6,>=4->myst-nb>=0.13.1->inferactively-pymdp==0.0.7.1) (2.12.1)\n",
            "Requirement already satisfied: alabaster<0.8,>=0.7 in /usr/local/lib/python3.9/dist-packages (from sphinx<6,>=4->myst-nb>=0.13.1->inferactively-pymdp==0.0.7.1) (0.7.13)\n",
            "Requirement already satisfied: imagesize>=1.3 in /usr/local/lib/python3.9/dist-packages (from sphinx<6,>=4->myst-nb>=0.13.1->inferactively-pymdp==0.0.7.1) (1.4.1)\n",
            "Requirement already satisfied: sphinxcontrib-applehelp in /usr/local/lib/python3.9/dist-packages (from sphinx<6,>=4->myst-nb>=0.13.1->inferactively-pymdp==0.0.7.1) (1.0.4)\n",
            "Requirement already satisfied: Pygments>=2.12 in /usr/local/lib/python3.9/dist-packages (from sphinx<6,>=4->myst-nb>=0.13.1->inferactively-pymdp==0.0.7.1) (2.14.0)\n",
            "Requirement already satisfied: requests>=2.5.0 in /usr/local/lib/python3.9/dist-packages (from sphinx<6,>=4->myst-nb>=0.13.1->inferactively-pymdp==0.0.7.1) (2.27.1)\n",
            "Requirement already satisfied: ipython-genutils in /usr/local/lib/python3.9/dist-packages (from ipykernel->myst-nb>=0.13.1->inferactively-pymdp==0.0.7.1) (0.2.0)\n",
            "Requirement already satisfied: tornado>=4.2 in /usr/local/lib/python3.9/dist-packages (from ipykernel->myst-nb>=0.13.1->inferactively-pymdp==0.0.7.1) (6.2)\n",
            "Requirement already satisfied: pickleshare in /usr/local/lib/python3.9/dist-packages (from ipython->myst-nb>=0.13.1->inferactively-pymdp==0.0.7.1) (0.7.5)\n",
            "Requirement already satisfied: setuptools>=18.5 in /usr/local/lib/python3.9/dist-packages (from ipython->myst-nb>=0.13.1->inferactively-pymdp==0.0.7.1) (67.6.1)\n",
            "Requirement already satisfied: jedi>=0.16 in /usr/local/lib/python3.9/dist-packages (from ipython->myst-nb>=0.13.1->inferactively-pymdp==0.0.7.1) (0.18.2)\n",
            "Requirement already satisfied: prompt-toolkit!=3.0.0,!=3.0.1,<3.1.0,>=2.0.0 in /usr/local/lib/python3.9/dist-packages (from ipython->myst-nb>=0.13.1->inferactively-pymdp==0.0.7.1) (3.0.38)\n",
            "Requirement already satisfied: pexpect>4.3 in /usr/local/lib/python3.9/dist-packages (from ipython->myst-nb>=0.13.1->inferactively-pymdp==0.0.7.1) (4.8.0)\n",
            "Requirement already satisfied: decorator in /usr/local/lib/python3.9/dist-packages (from ipython->myst-nb>=0.13.1->inferactively-pymdp==0.0.7.1) (4.4.2)\n",
            "Requirement already satisfied: matplotlib-inline in /usr/local/lib/python3.9/dist-packages (from ipython->myst-nb>=0.13.1->inferactively-pymdp==0.0.7.1) (0.1.6)\n",
            "Requirement already satisfied: backcall in /usr/local/lib/python3.9/dist-packages (from ipython->myst-nb>=0.13.1->inferactively-pymdp==0.0.7.1) (0.2.0)\n",
            "Requirement already satisfied: parso<0.9.0,>=0.8.0 in /usr/local/lib/python3.9/dist-packages (from jedi>=0.16->ipython->myst-nb>=0.13.1->inferactively-pymdp==0.0.7.1) (0.8.3)\n",
            "Requirement already satisfied: MarkupSafe>=2.0 in /usr/local/lib/python3.9/dist-packages (from jinja2->myst-parser~=0.18.0->myst-nb>=0.13.1->inferactively-pymdp==0.0.7.1) (2.1.2)\n",
            "Requirement already satisfied: pyrsistent!=0.17.0,!=0.17.1,!=0.17.2,>=0.14.0 in /usr/local/lib/python3.9/dist-packages (from jsonschema>=2.6->nbformat~=5.0->myst-nb>=0.13.1->inferactively-pymdp==0.0.7.1) (0.19.3)\n",
            "Requirement already satisfied: pyzmq>=13 in /usr/local/lib/python3.9/dist-packages (from jupyter-client>=6.1.5->nbclient->myst-nb>=0.13.1->inferactively-pymdp==0.0.7.1) (23.2.1)\n",
            "Requirement already satisfied: platformdirs>=2.5 in /usr/local/lib/python3.9/dist-packages (from jupyter-core->nbformat~=5.0->myst-nb>=0.13.1->inferactively-pymdp==0.0.7.1) (3.2.0)\n",
            "Requirement already satisfied: mdurl~=0.1 in /usr/local/lib/python3.9/dist-packages (from markdown-it-py<3.0.0,>=1.0.0->myst-parser~=0.18.0->myst-nb>=0.13.1->inferactively-pymdp==0.0.7.1) (0.1.2)\n",
            "Requirement already satisfied: ptyprocess>=0.5 in /usr/local/lib/python3.9/dist-packages (from pexpect>4.3->ipython->myst-nb>=0.13.1->inferactively-pymdp==0.0.7.1) (0.7.0)\n",
            "Requirement already satisfied: wcwidth in /usr/local/lib/python3.9/dist-packages (from prompt-toolkit!=3.0.0,!=3.0.1,<3.1.0,>=2.0.0->ipython->myst-nb>=0.13.1->inferactively-pymdp==0.0.7.1) (0.2.6)\n",
            "Requirement already satisfied: certifi>=2017.4.17 in /usr/local/lib/python3.9/dist-packages (from requests>=2.5.0->sphinx<6,>=4->myst-nb>=0.13.1->inferactively-pymdp==0.0.7.1) (2022.12.7)\n",
            "Requirement already satisfied: idna<4,>=2.5 in /usr/local/lib/python3.9/dist-packages (from requests>=2.5.0->sphinx<6,>=4->myst-nb>=0.13.1->inferactively-pymdp==0.0.7.1) (3.4)\n",
            "Requirement already satisfied: urllib3<1.27,>=1.21.1 in /usr/local/lib/python3.9/dist-packages (from requests>=2.5.0->sphinx<6,>=4->myst-nb>=0.13.1->inferactively-pymdp==0.0.7.1) (1.26.15)\n",
            "Requirement already satisfied: charset-normalizer~=2.0.0 in /usr/local/lib/python3.9/dist-packages (from requests>=2.5.0->sphinx<6,>=4->myst-nb>=0.13.1->inferactively-pymdp==0.0.7.1) (2.0.12)\n",
            "Requirement already satisfied: greenlet!=0.4.17 in /usr/local/lib/python3.9/dist-packages (from sqlalchemy<1.5,>=1.3.12->jupyter-cache~=0.5.0->myst-nb>=0.13.1->inferactively-pymdp==0.0.7.1) (2.0.2)\n"
          ]
        }
      ],
      "source": [
        "## Import relevant packages\n",
        "\n",
        "import pkg_resources #to check if certain packages are installed\n",
        "\n",
        "import os\n",
        "import sys\n",
        "import pathlib\n",
        "import numpy as np\n",
        "import seaborn as sns\n",
        "import matplotlib.pyplot as plt\n",
        "import copy\n",
        "\n",
        "\n",
        "#check if pymd package is installed in the env\n",
        "if 'pymdp' in {pkg.key for pkg in pkg_resources.working_set}:\n",
        "    print(\"pymdp package is installed\")\n",
        "else:\n",
        "    print(\"pymdp package is not installed\")\n",
        "    !pip install git+https://github.com/infer-actively/pymdp.git \n",
        " \n",
        "\n",
        "from pymdp import utils \n",
        "from pymdp.agent import Agent\n",
        "from pymdp.maths import softmax\n",
        "from pymdp.utils import plot_likelihood\n"
      ]
    },
    {
      "cell_type": "code",
      "execution_count": null,
      "metadata": {
        "id": "kRpDICL_47qg"
      },
      "outputs": [],
      "source": [
        "## Specify dimensionalities of hidden state factors, control factors and observation modalities\n",
        "\n",
        "context_names = ['Left Hand', 'Right Hand'] ## 2 contexts controlled by other agent: seeker chose penny left or right\n",
        "choice_names = ['Hide left', 'Hide right']\n",
        "\n",
        "\"\"\" Define `num_states` and `num_factors` below \"\"\"\n",
        "num_states = [len(context_names), len(choice_names)]\n",
        "num_factors = len(num_states)\n",
        "\n",
        "context_action_names = ['Do-nothing']\n",
        "choice_action_names = ['Hide penny left', 'Hide penny right'] ## 2 actions: choose to hide penny left and hide penny right\n",
        "\n",
        "\"\"\" Define `num_controls` below \"\"\"\n",
        "num_controls = [len(context_action_names), len(choice_action_names)]\n",
        "\n",
        "reward_obs_names = ['Loss', 'Reward']\n",
        "choice_obs_names = ['Left Hand', 'Right Hand']\n",
        "\n",
        "\"\"\" Define `num_obs` and `num_modalities` below \"\"\"\n",
        "num_obs = [len(reward_obs_names), len(choice_obs_names)]\n",
        "num_modalities = len(num_obs)"
      ]
    },
    {
      "cell_type": "markdown",
      "metadata": {
        "id": "6wGg56WQ47qc"
      },
      "source": [
        "The *0-ToM hider* is an active inference agent that learns to predict its reward outcomes and infer the other player's choices in a matching pennies paradigm\n",
        "The agent architecture is based on the agent class introduced by Conor Heins, Alexander Tschantz, Daphne Demekas, Brennan Klein"
      ]
    },
    {
      "cell_type": "markdown",
      "metadata": {
        "id": "3bxGYFIr47qh"
      },
      "source": [
        "## Hidden states\n",
        "\n",
        "Context states (other-states that need to be inferred)\n",
        "    1. Seeker chose to seek penny in left hand\n",
        "    2. Hider chose to seek penny in right hand \n",
        "\n",
        "\n",
        "Choice states (self-states that are directly accessible)\n",
        "    1. Hide in left hand \n",
        "    2. Hide in right hand \n",
        "\n",
        "\n",
        "Observation modalities\n",
        "    1. Self-choices (directly accessible)\n",
        "    2. Reward outcomes (noisy) \n"
      ]
    },
    {
      "cell_type": "markdown",
      "metadata": {
        "id": "9HoiutjH47qk"
      },
      "source": [
        "## Likelihood Matrix A"
      ]
    },
    {
      "cell_type": "code",
      "execution_count": null,
      "metadata": {
        "id": "x2nOV47t47ql",
        "outputId": "f38f70b2-2597-45bb-80cd-e5a5af817001",
        "colab": {
          "base_uri": "https://localhost:8080/",
          "height": 437
        }
      },
      "outputs": [
        {
          "output_type": "display_data",
          "data": {
            "text/plain": [
              "<Figure size 640x480 with 2 Axes>"
            ],
            "image/png": "[encoded data removed]"
          },
          "metadata": {}
        }
      ],
      "source": [
        "## Likelihood matrix A of observations O given hidden states S\n",
        "\n",
        "\"\"\" Generate the A array \"\"\"\n",
        "A = utils.obj_array(num_modalities)\n",
        "\n",
        "#### 1. Likelihood of proprioceptive/interoceptive observations (left choice or right choice) given beliefs about self-choice (left or right) and where the penny is hidden (context states left or right)\n",
        "A_choice = np.zeros((len(choice_obs_names), len(choice_names), len(context_names)))\n",
        "\n",
        "\n",
        "    #### 1.1. Likelihood of observing left choice given beliefs left choice and sought left\n",
        "    #### 1.2. Likelihood of observing left choice given beliefs left choice and sought right\n",
        "    #### 1.3. Likelihood of observing left choice given beliefs right choice and sought left\n",
        "    #### 1.4. Likelihood of observing left choice given beliefs right choice and sought right\n",
        "\n",
        "    #### 1.5. Likelihood of observing right choice given beliefs left choice and sought left\n",
        "    #### 1.6. Likelihood of observing right choice given beliefs left choice and sought right\n",
        "    #### 1.7. Likelihood of observing left choice given beliefs right choice and sought left\n",
        "    #### 1.8. Likelihood of observing right choice given beliefs right choice and sought right\n",
        "\n",
        "\n",
        "for choice_id in range(len(choice_names)):\n",
        "\n",
        "  A_choice[choice_id, :, choice_id] = 1.0 ## self-choices are fully transparant \n",
        "\n",
        "A[0] = A_choice\n",
        "\n",
        "plot_likelihood(A[0][:,0,:], \"Mapping between sensed states and true states\") ##plot likelihood mapping between choice observation and inferred choice state\n"
      ]
    },
    {
      "cell_type": "code",
      "execution_count": null,
      "metadata": {
        "id": "3j5zCScz47qn",
        "outputId": "61ef2781-b252-4d74-d287-da62a256ad6c",
        "colab": {
          "base_uri": "https://localhost:8080/"
        }
      },
      "outputs": [
        {
          "output_type": "stream",
          "name": "stdout",
          "text": [
            "['Hide left', 'Hide right']\n",
            "['Left Hand', 'Right Hand']\n",
            "[[[1. 0.]\n",
            "  [0. 1.]]\n",
            "\n",
            " [[0. 1.]\n",
            "  [1. 0.]]]\n"
          ]
        }
      ],
      "source": [
        "#### 2. Likelihood of reward observations (win or loose) given beliefs about self-choices (left or right) and where the penny is hidden (context states left or right)\n",
        "\n",
        "\"\"\" Initialize matrix storing likelihood mapping reward opbservations to hidden states\"\"\"\n",
        "from difflib import context_diff\n",
        "\n",
        "\n",
        "A_reward = np.zeros((len(reward_obs_names), len(context_names), len(choice_names)))\n",
        "\n",
        "## Likelihood mappings for each reward observation\n",
        "for choice_id, choice_name in enumerate(choice_names):\n",
        "    \n",
        "    for context_id, context_name in enumerate(context_names):\n",
        "      \n",
        "      if choice_name == 'Hide left':\n",
        "        \n",
        "        if context_name == 'Left Hand': \n",
        "          A_reward[1,context_id, choice_id] = 0 #### 1.1. Likelihood of observing a win given left choice and hid left\n",
        "      \n",
        "        elif context_name == 'Right Hand':\n",
        "          A_reward[1, context_id, choice_id] = 1 #### 1.2. Likelihood of observing a win given left choice and hid right\n",
        "\n",
        "      elif choice_name == 'Hide right':\n",
        "         \n",
        "          if context_name == 'Left Hand':\n",
        "            A_reward[1, context_id,choice_id] = 1 #### 1.3. Likelihood of observing a win given right choice and hid left\n",
        "          \n",
        "          elif context_name == 'Right Hand':\n",
        "            A_reward[1, context_id, choice_id] =  0 #### 1.4. Likelihood of Sobserving a win given right choice and hid right\n",
        "\n",
        "      A_reward[0,context_id,choice_id] = 1 - A_reward[1, context_id, choice_id] #### Likelihood of observing a loss is just 1- observing a win for each case\n",
        "\n",
        "print(choice_names)\n",
        "\n",
        "print(context_names)\n",
        "\n",
        "\n",
        "## Assign reward and choice-likelihoods to datastructure for A\n",
        "A[1] = A_reward\n",
        "\n",
        "print(A_reward)\n"
      ]
    },
    {
      "cell_type": "code",
      "source": [
        "#function to normalize multidimensional arr\n",
        "A_reward = utils.norm_dist(A_reward)\n",
        "\n",
        "print(A_reward)\n"
      ],
      "metadata": {
        "id": "jPQQYkmS5Lsi",
        "colab": {
          "base_uri": "https://localhost:8080/"
        },
        "outputId": "98738529-b0ca-4b42-a75b-993953016c05"
      },
      "execution_count": null,
      "outputs": [
        {
          "output_type": "stream",
          "name": "stdout",
          "text": [
            "[[[1. 0.]\n",
            "  [0. 1.]]\n",
            "\n",
            " [[0. 1.]\n",
            "  [1. 0.]]]\n"
          ]
        }
      ]
    },
    {
      "cell_type": "code",
      "execution_count": null,
      "metadata": {
        "id": "iv3ZPJ8T47qq",
        "outputId": "6f53c94a-6b47-41d8-9426-b95236c9de87",
        "colab": {
          "base_uri": "https://localhost:8080/",
          "height": 425
        }
      },
      "outputs": [
        {
          "output_type": "display_data",
          "data": {
            "text/plain": [
              "<Figure size 640x480 with 2 Axes>"
            ],
            "image/png": "[encoded data removed]"
          },
          "metadata": {}
        }
      ],
      "source": [
        "plot_likelihood(A[1][:,:,1], 'Payoff structure of choosing to hide penny in right hand for the two contexts')"
      ]
    },
    {
      "cell_type": "code",
      "execution_count": null,
      "metadata": {
        "id": "S6qm9qIt47qr",
        "outputId": "96aaa895-b557-4a9f-caa6-fd7a73fedc11",
        "colab": {
          "base_uri": "https://localhost:8080/",
          "height": 394
        }
      },
      "outputs": [
        {
          "output_type": "display_data",
          "data": {
            "text/plain": [
              "<Figure size 640x480 with 2 Axes>"
            ],
            "image/png": "[encoded data removed]"
          },
          "metadata": {}
        }
      ],
      "source": [
        "plot_likelihood(A[1][:,:,0], 'Payoff structure of choosing to hide the penny in the left hand for the two contexts') "
      ]
    },
    {
      "cell_type": "markdown",
      "metadata": {
        "id": "nhxSRh-647qt"
      },
      "source": [
        "## State transitions B"
      ]
    },
    {
      "cell_type": "code",
      "execution_count": null,
      "metadata": {
        "id": "v7baZg7347qt",
        "outputId": "967378ef-ce7a-4e22-b38a-3207ec3f7bd4",
        "colab": {
          "base_uri": "https://localhost:8080/"
        }
      },
      "outputs": [
        {
          "output_type": "stream",
          "name": "stdout",
          "text": [
            "[array([[[1.],\n",
            "         [0.]],\n",
            "\n",
            "        [[0.],\n",
            "         [1.]]]) array([[[1., 0.],\n",
            "                         [1., 0.]],\n",
            "\n",
            "                        [[0., 1.],\n",
            "                         [0., 1.]]])]\n"
          ]
        }
      ],
      "source": [
        "## State transitions between hidden states B\n",
        "\n",
        "\"\"\" Initialize B-array\"\"\"\n",
        "B = utils.obj_array(num_factors)\n",
        "\n",
        "\"\"\" Fill in transition probabilities for the context (Hider actions) which are uncontrollable\"\"\" \n",
        "B_context = np.zeros( (len(context_names), len(context_names), len(context_action_names)) )\n",
        "B_context[:,:,0] = np.eye(len(context_names))\n",
        "B[0] = B_context\n",
        "\n",
        "\"\"\" Fill in transition probabilities for choice state factor, which are controllable\"\"\"\n",
        "B_choice = np.zeros( (len(choice_names), len(choice_names), len(choice_action_names)) )\n",
        "\n",
        "for choice_i in range(len(choice_names)):\n",
        "  \n",
        "  B_choice[choice_i, :, choice_i] = 1.0 #action x leads to to choice state x, independently of previous state\n",
        "\n",
        "B[1] = B_choice\n",
        "B[1]= utils.norm_dist(B[1])\n",
        "\n",
        "print(B)\n"
      ]
    },
    {
      "cell_type": "code",
      "execution_count": null,
      "metadata": {
        "id": "eo59HC_A47qv"
      },
      "outputs": [],
      "source": [
        "## Prior preferences C for outcomes \n",
        "\n",
        "\"\"\" Initialize C based on the number of observation modalities\"\"\"\n",
        "C = utils.obj_array_zeros(num_obs)\n",
        "C_reward = np.zeros(len(reward_obs_names))\n",
        "\n",
        "### 1. Reward outcomes (noisy): preference (win)> preference (loose)\n",
        "C_reward[0] = -4.0 ## strong aversion to loss observation\n",
        "C_reward[1] = 2.0  ## slight preference for win\n",
        "\n",
        "### 2. Self-choices (directly accessible): no prior preferences, so C[2] remains flat\n",
        "C[0] = C_reward\n"
      ]
    },
    {
      "cell_type": "code",
      "execution_count": null,
      "metadata": {
        "id": "XIu8qAjG47qw"
      },
      "outputs": [],
      "source": [
        "## Starting state D: random starting state\n",
        "\n",
        "\"\"\" Initialize D based on hidden state factors: choice and context\"\"\"\n",
        "D = utils.obj_array(num_factors)\n",
        "\n",
        "## Starting-point context hidden state: no beliefs about context or choices or contexts\n",
        "D_context = np.array([0.5,0.5]) #random starting context-state\n",
        "D[0] = D_context\n",
        "\n",
        "## Starting point choice hidden state\n",
        "D_choice = np.zeros(len(choice_names)) # random starting choice-state\n",
        "D_choice = np.array([0.5,0.5])\n",
        "\n",
        "D[1] = D_choice"
      ]
    },
    {
      "cell_type": "code",
      "execution_count": null,
      "metadata": {
        "id": "Q5AboRa547qw"
      },
      "outputs": [],
      "source": [
        "## Prior preference over actions E: no prior preference\n",
        "E = utils.obj_array_zeros(num_controls)\n",
        "E = np.array([0.5,0.5]) "
      ]
    },
    {
      "cell_type": "markdown",
      "source": [
        "# Additional parameters"
      ],
      "metadata": {
        "id": "7qEIUfbmas7F"
      }
    },
    {
      "cell_type": "markdown",
      "source": [
        "Active inference allows for the specificafion of parameters alpha and gamma that control randomness in action selection and prior precision, respectively. \n",
        "\n",
        "For alpha > 16...., for alpha < 16 ...\n",
        "For gamma > 16...., for gamma < 16..."
      ],
      "metadata": {
        "id": "arDkUsqCZ5XM"
      }
    },
    {
      "cell_type": "code",
      "source": [
        "alpha = 16\n",
        "gamma = 16  #default value = 16"
      ],
      "metadata": {
        "id": "PBo26Au5a3jL"
      },
      "execution_count": null,
      "outputs": []
    },
    {
      "cell_type": "code",
      "execution_count": null,
      "metadata": {
        "id": "l6Y9R_br47qx"
      },
      "outputs": [],
      "source": [
        "# Use agent class to construct active inference agent \n",
        "OToM_agent = Agent(A,B,C,D,E,alpha, gamma)"
      ]
    },
    {
      "cell_type": "code",
      "execution_count": 35,
      "metadata": {
        "id": "NHfG7Pxk47qx",
        "colab": {
          "base_uri": "https://localhost:8080/"
        },
        "outputId": "35c206c7-a186-4b70-a1b2-83589cc802a6"
      },
      "outputs": [
        {
          "output_type": "stream",
          "name": "stdout",
          "text": [
            "fatal: not in a git directory\n",
            "fatal: not in a git directory\n"
          ]
        }
      ],
      "source": [
        "!git \n",
        "\n",
        "!git config –global user.email “nvrmindny7@gmail.com”\n",
        "!git config –global user.name “Annaother”"
      ]
    }
  ],
  "metadata": {
    "kernelspec": {
      "display_name": "base",
      "language": "python",
      "name": "python3"
    },
    "language_info": {
      "codemirror_mode": {
        "name": "ipython",
        "version": 3
      },
      "file_extension": ".py",
      "mimetype": "text/x-python",
      "name": "python",
      "nbconvert_exporter": "python",
      "pygments_lexer": "ipython3",
      "version": "3.10.4"
    },
    "orig_nbformat": 4,
    "colab": {
      "provenance": [],
      "include_colab_link": true
    }
  },
  "nbformat": 4,
  "nbformat_minor": 0
}